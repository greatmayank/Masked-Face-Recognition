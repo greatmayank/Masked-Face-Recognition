{
 "cells": [
  {
   "cell_type": "code",
   "execution_count": null,
   "metadata": {},
   "outputs": [],
   "source": [
    "import cv2,os\n",
    "import matplotlib.pyplot as plt\n",
    "import numpy as np\n",
    "import shutil\n",
    "import json"
   ]
  },
  {
   "cell_type": "code",
   "execution_count": null,
   "metadata": {},
   "outputs": [],
   "source": [
    "path = r\"/Users/mayank agrawal/4.jpg\"\n",
    "\n",
    "img_bgr = cv2.imread(path)\n",
    "\n",
    "if img_bgr is None:\n",
    "    print(\"{} Read failed\".format(path))\n",
    "else:\n",
    "    print(\"Image Shape : \",img_bgr.shape)\n",
    "    print(\"numeric type : \",img_bgr.dtype)\n",
    "    \n",
    "    img_rgb = cv2.cvtColor(img_bgr,cv2.COLOR_BGR2RGB)\n",
    "    \n",
    "    img_gray = cv2.cvtColor(img_bgr,cv2.COLOR_BGR2GRAY)\n",
    "    \n",
    "    width = 50\n",
    "    height = 70\n",
    "    img_resized = cv2.resize(img_rgb,(width,height))\n",
    "    print(\"Image_resized Shape :\",img_resized.shape)\n",
    "    \n",
    "    img_resized_2 = cv2.resize(img_rgb,None,fx=0.8,fy=0.8)\n",
    "    print(\"Image_resized_2 Shape :\",img_resized.shape)\n",
    "    \n",
    "    img_crop = img_rgb[100:200,100:200:,:]\n",
    "    \n",
    "    new_path = r\"test_save.png\"\n",
    "    cv2.imwrite(new_path,img_resized)"
   ]
  },
  {
   "cell_type": "code",
   "execution_count": null,
   "metadata": {},
   "outputs": [],
   "source": [
    "plt.imshow(img_resized_2)\n",
    "plt.show()"
   ]
  },
  {
   "cell_type": "code",
   "execution_count": null,
   "metadata": {},
   "outputs": [],
   "source": [
    "print(\"Max value before normalization\",np.max(img_rgb))\n",
    "img_rgb = img_rgb.astype(np.float32)\n",
    "img_rgb /= 255\n",
    "print(\"Max value after normalization\",np.max(img_rgb))"
   ]
  },
  {
   "cell_type": "code",
   "execution_count": null,
   "metadata": {},
   "outputs": [],
   "source": [
    "root_dir = r\"/\"\n",
    "img_format = {'jpg','png','bmp'}\n",
    "paths = list()\n",
    "\n",
    "for obj in os.scandir(root_dir):\n",
    "    if obj.is_dir():\n",
    "        paths_temp = [obj.path for obj in os.scandir(obj.path) if obj.name.split(\".\")[-1] in img_format]\n",
    "        \n",
    "        print(\"{} images in {}\".format(len(paths_temp),obj.path))\n",
    "        \n",
    "        paths.extend(paths_temp)\n",
    "print(\"Image Quantity : \",len(paths))"
   ]
  },
  {
   "cell_type": "code",
   "execution_count": null,
   "metadata": {},
   "outputs": [],
   "source": [
    "size = (100,100)\n",
    "\n",
    "img_array = list()\n",
    "\n",
    "for path in paths:\n",
    "    img = cv2.imread(path)\n",
    "    if img is None:\n",
    "        print(\"Read {} failed\",format(path))\n",
    "    else:\n",
    "        img = cv2.cvtColor(img,cv2.COLOR_BGR2RGB)\n",
    "        img = cv2.resize(img,size)\n",
    "        img = img.astype(np.float32)\n",
    "        img /= 255\n",
    "        \n",
    "        img_array.append(img)\n",
    "img_array = np.array(img_array)\n",
    "print(\"Image array Shape: \",img_array.shape)"
   ]
  },
  {
   "cell_type": "code",
   "execution_count": null,
   "metadata": {},
   "outputs": [],
   "source": [
    "def data_distribution(img_dir, ratio=0.7):\n",
    "    \n",
    "    img_format = {'jpg','png','bmp'}\n",
    "    paths = [file.path for obj in os.scandir(file.path) if file.name.split(\".\")[-1] in img_format]\n",
    "    leng = len(paths)\n",
    "    if leng <= 0:\n",
    "        print(\"No supported image files {}\",format(img_dir))\n",
    "    else:\n",
    "        paths = np.array(paths)\n",
    "        indice = np.random.permutation(paths.shape[0])\n",
    "        paths = paths[indice]\n",
    "        \n",
    "        num = int(leng*ratio)\n",
    "        part_1 = paths[:num]\n",
    "        part_2 = paths[num:]\n",
    "        \n",
    "        dir_1 = os.path.join(img_dir,\"ratio_\" + \"%.2f\"%ratio)\n",
    "        dir_2 = os.path.join(img_dir,\"ratio_\" + \"%.2f\"%(1-ratio))\n",
    "        \n",
    "        for dir_path in [dir_1,dir_2]:\n",
    "            if not os.path.exists(dir_path):\n",
    "                os.makedirs(dir_path)\n",
    "        \n",
    "        for path in part_1:\n",
    "            new_file_path = path.split(\"\\\\\")[-1]\n",
    "            new_file_path = os.path.join(dir_1,new_file_path)\n",
    "            shutil.copy(path,new_file_path)\n",
    "        \n",
    "        for path in part_2:\n",
    "            new_file_path = path.split(\"\\\\\")[-1]\n",
    "            new_file_path = os.path.join(dir_2,new_file_path)\n",
    "            shutil.copy(path,new_file_path)\n",
    "        \n",
    "        print(\"Done\")"
   ]
  }
 ],
 "metadata": {
  "kernelspec": {
   "display_name": "Python 3",
   "language": "python",
   "name": "python3"
  },
  "language_info": {
   "codemirror_mode": {
    "name": "ipython",
    "version": 3
   },
   "file_extension": ".py",
   "mimetype": "text/x-python",
   "name": "python",
   "nbconvert_exporter": "python",
   "pygments_lexer": "ipython3",
   "version": "3.6.5"
  }
 },
 "nbformat": 4,
 "nbformat_minor": 2
}
